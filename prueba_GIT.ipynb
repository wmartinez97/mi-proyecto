{
 "cells": [
  {
   "cell_type": "code",
   "execution_count": 4,
   "id": "b466b760-a8e4-4b39-8e22-1fbc433732e6",
   "metadata": {},
   "outputs": [],
   "source": [
    "h=\"Hola, estoy probando mi conexión con GIT\""
   ]
  },
  {
   "cell_type": "code",
   "execution_count": 6,
   "id": "a1fef7cf-ef28-486b-9df9-115ac521ad32",
   "metadata": {},
   "outputs": [
    {
     "name": "stdout",
     "output_type": "stream",
     "text": [
      "Hola, estoy probando mi conexión con GIT\n"
     ]
    }
   ],
   "source": [
    "print(h)"
   ]
  },
  {
   "cell_type": "code",
   "execution_count": 1,
   "id": "845162e3-3734-421e-812d-ce9730b0a007",
   "metadata": {},
   "outputs": [
    {
     "name": "stdout",
     "output_type": "stream",
     "text": [
      "Estoy probando los cambios en mi código\n"
     ]
    }
   ],
   "source": [
    "print(\"Estoy probando los cambios en mi código\")"
   ]
  }
 ],
 "metadata": {
  "kernelspec": {
   "display_name": "Python 3 (ipykernel)",
   "language": "python",
   "name": "python3"
  },
  "language_info": {
   "codemirror_mode": {
    "name": "ipython",
    "version": 3
   },
   "file_extension": ".py",
   "mimetype": "text/x-python",
   "name": "python",
   "nbconvert_exporter": "python",
   "pygments_lexer": "ipython3",
   "version": "3.12.4"
  }
 },
 "nbformat": 4,
 "nbformat_minor": 5
}
