{
 "cells": [
  {
   "cell_type": "code",
   "execution_count": 1,
   "id": "b466b760-a8e4-4b39-8e22-1fbc433732e6",
   "metadata": {},
   "outputs": [],
   "source": [
    "import os\n",
    "import numpy as np\n",
    "import matplotlib.pyplot as plt\n",
    "import pandas as pd\n",
    "import scipy.ndimage\n",
    "import scipy.stats\n",
    "import shapely\n",
    "import geopandas as gpd\n",
    "import rasterio\n",
    "import rasterio.plot\n",
    "import rasterio.merge\n",
    "import rasterio.features"
   ]
  },
  {
   "cell_type": "code",
   "execution_count": 18,
   "id": "a1fef7cf-ef28-486b-9df9-115ac521ad32",
   "metadata": {},
   "outputs": [],
   "source": [
    "src = rasterio.open('Insumos_raster/Mosaico_ROI_2022_V3.tif')"
   ]
  },
  {
   "cell_type": "code",
   "execution_count": 19,
   "id": "5bc3b4bd-3d41-496c-a9c7-a1117e1980e4",
   "metadata": {},
   "outputs": [
    {
     "name": "stdout",
     "output_type": "stream",
     "text": [
      "<open DatasetReader name='Insumos_raster/Mosaico_ROI_2022_V3.tif' mode='r'>\n",
      "Número de bandas: 7\n",
      "Tamaño (ancho x alto): 1933 x 1943\n",
      "Tipo de dato: float32\n"
     ]
    }
   ],
   "source": [
    "print(src)  # Información del raster\n",
    "print(\"Número de bandas:\", src.count)  # Número de bandas\n",
    "print(\"Tamaño (ancho x alto):\", src.width, \"x\", src.height)  # Dimensiones\n",
    "print(\"Tipo de dato:\", src.dtypes[0])  # Tipo de dato"
   ]
  },
  {
   "cell_type": "code",
   "execution_count": 21,
   "id": "04de391e-0a32-4f64-8511-3329533851ec",
   "metadata": {},
   "outputs": [],
   "source": [
    "bandas = src.read()  # Devuelve un array (bandas, filas, columnas)"
   ]
  },
  {
   "cell_type": "code",
   "execution_count": 3,
   "id": "3d9d7b15-0215-474b-8112-2bc8c45dcb6a",
   "metadata": {},
   "outputs": [],
   "source": [
    "landsat = src_landsat.read()"
   ]
  },
  {
   "cell_type": "code",
   "execution_count": 26,
   "id": "845162e3-3734-421e-812d-ce9730b0a007",
   "metadata": {},
   "outputs": [
    {
     "name": "stderr",
     "output_type": "stream",
     "text": [
      "C:\\Users\\marti\\AppData\\Local\\Temp\\ipykernel_14612\\233979863.py:44: RuntimeWarning: invalid value encountered in cast\n",
      "  r_band_uint8 = (r_band * 255).astype('uint8')\n",
      "C:\\Users\\marti\\AppData\\Local\\Temp\\ipykernel_14612\\233979863.py:45: RuntimeWarning: invalid value encountered in cast\n",
      "  g_band_uint8 = (g_band * 255).astype('uint8')\n",
      "C:\\Users\\marti\\AppData\\Local\\Temp\\ipykernel_14612\\233979863.py:46: RuntimeWarning: invalid value encountered in cast\n",
      "  b_band_uint8 = (b_band * 255).astype('uint8')\n"
     ]
    }
   ],
   "source": [
    "# Reemplazar valores NaN y negativos con 0\n",
    "r_band = np.nan_to_num(r_band, nan=0, neginf=0, posinf=1)  # Reemplaza NaN con 0 y Inf con 1\n",
    "g_band = np.nan_to_num(g_band, nan=0, neginf=0, posinf=1)\n",
    "b_band = np.nan_to_num(b_band, nan=0, neginf=0, posinf=1)\n",
    "\n",
    "# Asegurarse de que no haya valores negativos\n",
    "r_band[r_band < 0] = 0\n",
    "g_band[g_band < 0] = 0\n",
    "b_band[b_band < 0] = 0\n",
    "\n",
    "\n",
    "# Seleccionar bandas (ajusta a las que correspondan a R, G, B)\n",
    "r_band = bandas[3 - 1]  # Banda roja\n",
    "g_band = bandas[2 - 1]  # Banda verde\n",
    "b_band = bandas[1 - 1]  # Banda azul\n",
    "\n",
    "# Normalizar las bandas al rango 0-1\n",
    "import numpy as np\n",
    "# Seleccionar bandas (por ejemplo, bandas 6, 5, 4)\n",
    "r_band = bandas[6 - 1]  # Banda SR_B6\n",
    "g_band = bandas[5 - 1]  # Banda SR_B5\n",
    "b_band = bandas[4 - 1]  # Banda SR_B4\n",
    "\n",
    "# Valores de gain (ajustados según GEE)\n",
    "gain = [0.08, 0.06, 0.2]\n",
    "\n",
    "# Aplicar gain a cada banda\n",
    "r_band = r_band * gain[0]\n",
    "g_band = g_band * gain[1]\n",
    "b_band = b_band * gain[2]\n",
    "\n",
    "# Normalizar las bandas al rango 0-1\n",
    "r_band = (r_band - r_band.min()) / (r_band.max() - r_band.min())\n",
    "g_band = (g_band - g_band.min()) / (g_band.max() - g_band.min())\n",
    "b_band = (b_band - b_band.min()) / (b_band.max() - b_band.min())\n",
    "\n",
    "# Aplicar gamma correction\n",
    "gamma = 0.85\n",
    "r_band = r_band ** gamma\n",
    "g_band = g_band ** gamma\n",
    "b_band = b_band ** gamma\n",
    "\n",
    "# Convertir a uint8 para visualización\n",
    "r_band_uint8 = (r_band * 255).astype('uint8')\n",
    "g_band_uint8 = (g_band * 255).astype('uint8')\n",
    "b_band_uint8 = (b_band * 255).astype('uint8')\n",
    "\n",
    "# Crear la composición RGB\n",
    "rgb = np.stack((r_band_uint8, g_band_uint8, b_band_uint8), axis=-1)\n",
    "\n"
   ]
  },
  {
   "cell_type": "code",
   "execution_count": 24,
   "id": "04f97307-9082-427b-b98d-b420a9aff45e",
   "metadata": {},
   "outputs": [
    {
     "data": {
      "image/png": "[encoded data removed]",
      "text/plain": [
       "<Figure size 1000x600 with 1 Axes>"
      ]
     },
     "metadata": {},
     "output_type": "display_data"
    }
   ],
   "source": [
    "# Crear imagen RGB\n",
    "rgb = np.stack((r_band, g_band, b_band), axis=-1)\n",
    "\n",
    "# Mostrar la imagen\n",
    "plt.figure(figsize=(10, 6))\n",
    "plt.imshow(rgb)\n",
    "plt.title(\"Composición de Falso Color\")\n",
    "plt.axis('off')\n",
    "plt.show()\n"
   ]
  },
  {
   "cell_type": "code",
   "execution_count": null,
   "id": "5e7f0003-fe57-43ff-9dff-0b7442e408d7",
   "metadata": {},
   "outputs": [],
   "source": []
  }
 ],
 "metadata": {
  "kernelspec": {
   "display_name": "Python 3 (ipykernel)",
   "language": "python",
   "name": "python3"
  },
  "language_info": {
   "codemirror_mode": {
    "name": "ipython",
    "version": 3
   },
   "file_extension": ".py",
   "mimetype": "text/x-python",
   "name": "python",
   "nbconvert_exporter": "python",
   "pygments_lexer": "ipython3",
   "version": "3.12.4"
  }
 },
 "nbformat": 4,
 "nbformat_minor": 5
}
